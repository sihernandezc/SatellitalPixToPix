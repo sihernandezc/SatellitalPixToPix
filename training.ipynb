{
 "cells": [
  {
   "cell_type": "code",
   "execution_count": null,
   "metadata": {},
   "outputs": [],
   "source": [
    "from .source.config import Configuration\n",
    "from .source.train import TrainModel\n",
    "\n",
    "## Define the training configuration\n",
    "config = Configuration()\n",
    "## Update the training step\n",
    "config.step = 1330000\n",
    "## Initialize the training configuration\n",
    "training_model = TrainModel(config=config.to_dict())"
   ]
  },
  {
   "cell_type": "code",
   "execution_count": null,
   "metadata": {},
   "outputs": [],
   "source": [
    "## Prepare the training data\n",
    "training_model.prepare_training()"
   ]
  },
  {
   "cell_type": "code",
   "execution_count": null,
   "metadata": {},
   "outputs": [],
   "source": [
    "## Train the model\n",
    "training_model.train_model()"
   ]
  },
  {
   "cell_type": "code",
   "execution_count": null,
   "metadata": {},
   "outputs": [],
   "source": [
    "## Save the trained model\n",
    "training_model.save_trained_model()"
   ]
  },
  {
   "cell_type": "code",
   "execution_count": null,
   "metadata": {},
   "outputs": [],
   "source": [
    "## Define the bins\n",
    "training_model.config['bins']=10000\n",
    "training_model.visualice_model_history()"
   ]
  }
 ],
 "metadata": {
  "language_info": {
   "name": "python"
  }
 },
 "nbformat": 4,
 "nbformat_minor": 2
}
